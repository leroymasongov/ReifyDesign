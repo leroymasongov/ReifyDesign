{
 "cells": [
  {
   "cell_type": "markdown",
   "metadata": {},
   "source": [
    "Connected to Python 3.12.3"
   ]
  },
  {
   "cell_type": "code",
   "execution_count": null,
   "id": "bf2690e5-94ce-4a99-9ab5-689de7238feb",
   "metadata": {},
   "outputs": [
    {
     "ename": "com_error",
     "evalue": "(-2147352567, 'Exception occurred.', (0, 'CAD_interactions.vsdx - Visio Professional', '\\n\\nInvalid parameter.', None, 0, -2032465751), None)",
     "output_type": "error",
     "traceback": [
      "\u001b[1;31m---------------------------------------------------------------------------\u001b[0m",
      "\u001b[1;31mcom_error\u001b[0m                                 Traceback (most recent call last)",
      "File \u001b[1;32md:\\repos3\\Network-Interaction-Due-Digilence\\ReifyDesign\\rd4_reportfile.py:39\u001b[0m\n\u001b[0;32m     36\u001b[0m \u001b[39mtry\u001b[39;00m:\n\u001b[0;32m     37\u001b[0m     \u001b[39m# Get the connected shapes\u001b[39;00m\n\u001b[0;32m     38\u001b[0m     from_shape \u001b[39m=\u001b[39m shape\u001b[39m.\u001b[39mConnects\u001b[39m.\u001b[39mItem(\u001b[39m1\u001b[39m)\u001b[39m.\u001b[39mToSheet\n\u001b[1;32m---> 39\u001b[0m     to_shape \u001b[39m=\u001b[39m shape\u001b[39m.\u001b[39;49mConnects\u001b[39m.\u001b[39;49mItem(\u001b[39m2\u001b[39;49m)\u001b[39m.\u001b[39mToSheet\n\u001b[0;32m     40\u001b[0m     file\u001b[39m.\u001b[39mwrite(\u001b[39mf\u001b[39m\u001b[39m\"\u001b[39m\u001b[39mConnector from Shape ID: \u001b[39m\u001b[39m{\u001b[39;00mfrom_shape\u001b[39m.\u001b[39mID\u001b[39m}\u001b[39;00m\u001b[39m, Name: \u001b[39m\u001b[39m{\u001b[39;00mfrom_shape\u001b[39m.\u001b[39mName\u001b[39m}\u001b[39;00m\u001b[39m\\n\u001b[39;00m\u001b[39m\"\u001b[39m)\n\u001b[0;32m     41\u001b[0m     file\u001b[39m.\u001b[39mwrite(\u001b[39mf\u001b[39m\u001b[39m\"\u001b[39m\u001b[39mConnector to Shape ID: \u001b[39m\u001b[39m{\u001b[39;00mto_shape\u001b[39m.\u001b[39mID\u001b[39m}\u001b[39;00m\u001b[39m, Name: \u001b[39m\u001b[39m{\u001b[39;00mto_shape\u001b[39m.\u001b[39mName\u001b[39m}\u001b[39;00m\u001b[39m\\n\u001b[39;00m\u001b[39m\"\u001b[39m)\n",
      "File \u001b[1;32m<COMObject <unknown>>:2\u001b[0m, in \u001b[0;36mItem\u001b[1;34m(self, Index)\u001b[0m\n",
      "\u001b[1;31mcom_error\u001b[0m: (-2147352567, 'Exception occurred.', (0, 'CAD_interactions.vsdx - Visio Professional', '\\n\\nInvalid parameter.', None, 0, -2032465751), None)"
     ]
    }
   ],
   "source": [
    "import win32com.client\n",
    "from fileconfig import get_visio_file_path\n",
    "from datetime import datetime\n",
    "\n",
    "# Create a Visio application object\n",
    "visio = win32com.client.Dispatch(\"Visio.Application\")\n",
    "\n",
    "# Get the Visio document path from the function\n",
    "visio_file_path = get_visio_file_path()\n",
    "\n",
    "# Open the Visio document\n",
    "doc = visio.Documents.Open(visio_file_path)\n",
    "\n",
    "# Get the current date and time for the file name\n",
    "now = datetime.now()\n",
    "short_date = now.strftime(\"%Y%m%d\")\n",
    "short_time = now.strftime(\"%H%M%S\")\n",
    "file_name = f\"NWIDD-{short_date}-{short_time}.txt\"\n",
    "file_path = f\"C:\\\\Users\\\\leroy\\\\Downloads\\\\{file_name}\"\n",
    "\n",
    "# Open the output file\n",
    "with open(file_path, \"w\") as file:\n",
    "    # Iterate through each page in the document\n",
    "    for page in doc.Pages:\n",
    "        file.write(f\"Page: {page.Name}\\n\")\n",
    "        \n",
    "        # Iterate through each shape in the page\n",
    "        for shape in page.Shapes:\n",
    "            file.write(f\"Shape ID: {shape.ID}\\n\")\n",
    "            file.write(f\"Shape Name: {shape.Name}\\n\")\n",
    "            file.write(f\"Shape Text: {shape.Text}\\n\")\n",
    "            file.write(f\"Shape Type: {shape.Type}\\n\")\n",
    "            \n",
    "            # Check if the shape is a connector\n",
    "            if shape.OneD:\n",
    "                try:\n",
    "                    # Get the connected shapes\n",
    "                    from_shape = shape.Connects.Item(1).ToSheet\n",
    "                    to_shape = shape.Connects.Item(2).ToSheet\n",
    "                    file.write(f\"Connector from Shape ID: {from_shape.ID}, Name: {from_shape.Name}\\n\")\n",
    "                    file.write(f\"Connector to Shape ID: {to_shape.ID}, Name: {to_shape.Name}\\n\")\n",
    "                except IndexError:\n",
    "                    file.write(\"Error: Connector does not have the expected connections.\\n\")\n",
    "            \n",
    "            file.write(\"----\\n\")\n",
    "\n",
    "# Close the document without saving\n",
    "doc.Close(False)\n",
    "\n",
    "# Quit the Visio application\n",
    "visio.Quit()"
   ]
  }
 ],
 "metadata": {
  "kernelspec": {
   "display_name": "Python 3",
   "language": "python",
   "name": "python3"
  },
  "language_info": {
   "name": "python",
   "version": "3.12.3"
  }
 },
 "nbformat": 4,
 "nbformat_minor": 2
}
